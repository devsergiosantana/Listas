{
 "cells": [
  {
   "cell_type": "markdown",
   "id": "a7d82031",
   "metadata": {},
   "source": [
    "LISTAS\n",
    "Listas podem ser criadas de forma IMPLICITA, listando os elementos entre colchetes []"
   ]
  },
  {
   "cell_type": "code",
   "execution_count": 1,
   "id": "cd6252a8",
   "metadata": {},
   "outputs": [
    {
     "name": "stdout",
     "output_type": "stream",
     "text": [
      "['Abacaxi', 'Banana', 'Caqui', 'Damasco', 'Embaúba', 'Figo', 'Graviola']\n"
     ]
    }
   ],
   "source": [
    "frutas = [\"Abacaxi\", \"Banana\", \"Caqui\", \"Damasco\",\"Embaúba\", \"Figo\", \"Graviola\"]\n",
    "print(frutas)"
   ]
  },
  {
   "cell_type": "code",
   "execution_count": 2,
   "id": "cd41721c",
   "metadata": {},
   "outputs": [
    {
     "name": "stdout",
     "output_type": "stream",
     "text": [
      "[1, 1, 2, 3, 5, 8, 13, 21, 34, 55, 89]\n"
     ]
    }
   ],
   "source": [
    "numeros = [1, 1, 2, 3, 5, 8, 13, 21, 34, 55, 89]\n",
    "print(numeros)"
   ]
  },
  {
   "cell_type": "code",
   "execution_count": 3,
   "id": "3e136c93",
   "metadata": {},
   "outputs": [
    {
     "name": "stdout",
     "output_type": "stream",
     "text": [
      "['Carlos', 19, True, 'Pedro', 'Ana', 1.78, 2001]\n"
     ]
    }
   ],
   "source": [
    "dados = [\"Carlos\", 19, True , \"Pedro\", \"Ana\", 1.78, 2001]\n",
    "print(dados)"
   ]
  },
  {
   "cell_type": "markdown",
   "id": "a396924e",
   "metadata": {},
   "source": [
    "LISTAS\n",
    "Listas podem ser criadas de forma EXPLÍCITA, utilizando a função list"
   ]
  },
  {
   "cell_type": "code",
   "execution_count": 4,
   "id": "bd6b2dcf",
   "metadata": {},
   "outputs": [
    {
     "name": "stdout",
     "output_type": "stream",
     "text": [
      "[0, 1, 2, 3, 4, 5, 6, 7, 8, 9]\n"
     ]
    }
   ],
   "source": [
    "n = list(range(10))\n",
    "print(n)"
   ]
  },
  {
   "cell_type": "code",
   "execution_count": 5,
   "id": "3a8eaefe",
   "metadata": {},
   "outputs": [
    {
     "name": "stdout",
     "output_type": "stream",
     "text": [
      "[]\n"
     ]
    }
   ],
   "source": [
    "n = list()\n",
    "print(n)"
   ]
  },
  {
   "cell_type": "code",
   "execution_count": 6,
   "id": "1dd71411",
   "metadata": {},
   "outputs": [
    {
     "name": "stdout",
     "output_type": "stream",
     "text": [
      "['Toyota', 'Volkswagen', 'Ford']\n"
     ]
    }
   ],
   "source": [
    "empresas = list([\"Toyota\", \"Volkswagen\", \"Ford\"])\n",
    "print(empresas)"
   ]
  },
  {
   "cell_type": "markdown",
   "id": "2651fbfd",
   "metadata": {},
   "source": [
    "Selecionando elementos -> lista[i - 1]\n",
    "O primeiro elemento de uma lista ocupa a posição 0\n",
    "Essa operação retorna como resposta uma cópia do i-ésimo elemento da lista"
   ]
  },
  {
   "cell_type": "code",
   "execution_count": 7,
   "id": "a09041b6",
   "metadata": {},
   "outputs": [
    {
     "name": "stdout",
     "output_type": "stream",
     "text": [
      "D\n"
     ]
    }
   ],
   "source": [
    "letras = [\"A\", \"B\", \"C\", \"D\", \"E\", \"F\", \"G\", \"H\"]\n",
    "print(letras[3])"
   ]
  },
  {
   "cell_type": "code",
   "execution_count": 9,
   "id": "3636156c",
   "metadata": {},
   "outputs": [
    {
     "name": "stdout",
     "output_type": "stream",
     "text": [
      "[0, 1, 2, 3, 4, 5, 6, 7, 8, 9]\n",
      "6\n"
     ]
    }
   ],
   "source": [
    "n = list(range(10))\n",
    "print(n)\n",
    "print(n[6])"
   ]
  },
  {
   "cell_type": "markdown",
   "id": "9f530b73",
   "metadata": {},
   "source": [
    "Determinando o Tamanho de uma List\n",
    "A função (len) recebe como parâmetro uma lista e retorna o seu TAMANHO (número de elementos)"
   ]
  },
  {
   "cell_type": "code",
   "execution_count": 11,
   "id": "53424a0b",
   "metadata": {},
   "outputs": [
    {
     "name": "stdout",
     "output_type": "stream",
     "text": [
      "7\n"
     ]
    }
   ],
   "source": [
    "frutas = [\"Abacaxi\", \"Banana\", \"Caqui\", \"Damasco\",\"Embaúba\", \"Figo\", \"Graviola\"]\n",
    "print(len(frutas))"
   ]
  }
 ],
 "metadata": {
  "kernelspec": {
   "display_name": "venv",
   "language": "python",
   "name": "python3"
  },
  "language_info": {
   "codemirror_mode": {
    "name": "ipython",
    "version": 3
   },
   "file_extension": ".py",
   "mimetype": "text/x-python",
   "name": "python",
   "nbconvert_exporter": "python",
   "pygments_lexer": "ipython3",
   "version": "3.13.3"
  }
 },
 "nbformat": 4,
 "nbformat_minor": 5
}
